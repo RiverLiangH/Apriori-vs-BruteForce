{
  "cells": [
    {
      "cell_type": "code",
      "execution_count": 96,
      "metadata": {
        "colab": {
          "base_uri": "https://localhost:8080/"
        },
        "collapsed": true,
        "id": "uh1ETbGqMIDF",
        "outputId": "77f5c50d-bf74-466e-cdd7-d6cabece8ea2"
      },
      "outputs": [
        {
          "output_type": "stream",
          "name": "stdout",
          "text": [
            "Drive already mounted at /content/drive; to attempt to forcibly remount, call drive.mount(\"/content/drive\", force_remount=True).\n"
          ]
        }
      ],
      "source": [
        "from google.colab import drive\n",
        "drive.mount('/content/drive')"
      ]
    },
    {
      "cell_type": "markdown",
      "metadata": {
        "id": "C-km_d90OWZu"
      },
      "source": [
        "# Step 0 Install Required Libraries"
      ]
    },
    {
      "cell_type": "code",
      "execution_count": 97,
      "metadata": {
        "colab": {
          "base_uri": "https://localhost:8080/"
        },
        "collapsed": true,
        "id": "H4nZySd0OI-n",
        "outputId": "8e4b86ec-fd06-4017-d47f-5f2b3623d22a"
      },
      "outputs": [
        {
          "output_type": "stream",
          "name": "stdout",
          "text": [
            "Requirement already satisfied: orange3 in /usr/local/lib/python3.10/dist-packages (3.37.0)\n",
            "Requirement already satisfied: orange3-associate in /usr/local/lib/python3.10/dist-packages (1.3.0)\n",
            "Requirement already satisfied: AnyQt>=0.2.0 in /usr/local/lib/python3.10/dist-packages (from orange3) (0.2.0)\n",
            "Requirement already satisfied: baycomp>=1.0.2 in /usr/local/lib/python3.10/dist-packages (from orange3) (1.0.3)\n",
            "Requirement already satisfied: bottleneck>=1.3.4 in /usr/local/lib/python3.10/dist-packages (from orange3) (1.4.1)\n",
            "Requirement already satisfied: catboost>=1.0.1 in /usr/local/lib/python3.10/dist-packages (from orange3) (1.2.7)\n",
            "Requirement already satisfied: chardet>=3.0.2 in /usr/local/lib/python3.10/dist-packages (from orange3) (5.2.0)\n",
            "Requirement already satisfied: httpx>=0.21.0 in /usr/local/lib/python3.10/dist-packages (from orange3) (0.27.2)\n",
            "Requirement already satisfied: joblib>=1.1.1 in /usr/local/lib/python3.10/dist-packages (from orange3) (1.4.2)\n",
            "Requirement already satisfied: keyring in /usr/lib/python3/dist-packages (from orange3) (23.5.0)\n",
            "Requirement already satisfied: keyrings.alt in /usr/local/lib/python3.10/dist-packages (from orange3) (5.0.2)\n",
            "Requirement already satisfied: matplotlib>=3.2.0 in /usr/local/lib/python3.10/dist-packages (from orange3) (3.7.1)\n",
            "Requirement already satisfied: networkx in /usr/local/lib/python3.10/dist-packages (from orange3) (3.4.1)\n",
            "Requirement already satisfied: numpy<2,>=1.20.0 in /usr/local/lib/python3.10/dist-packages (from orange3) (1.26.4)\n",
            "Requirement already satisfied: openTSNE!=0.7.0,>=0.6.1 in /usr/local/lib/python3.10/dist-packages (from orange3) (1.0.2)\n",
            "Requirement already satisfied: openpyxl in /usr/local/lib/python3.10/dist-packages (from orange3) (3.1.5)\n",
            "Requirement already satisfied: orange-canvas-core<0.3a,>=0.2a in /usr/local/lib/python3.10/dist-packages (from orange3) (0.2.4)\n",
            "Requirement already satisfied: orange-widget-base>=4.23.0 in /usr/local/lib/python3.10/dist-packages (from orange3) (4.25.0)\n",
            "Requirement already satisfied: packaging in /usr/local/lib/python3.10/dist-packages (from orange3) (24.1)\n",
            "Requirement already satisfied: pandas!=1.5.0,!=2.0.0,>=1.4.0 in /usr/local/lib/python3.10/dist-packages (from orange3) (2.2.2)\n",
            "Requirement already satisfied: pip>=19.3 in /usr/local/lib/python3.10/dist-packages (from orange3) (24.1.2)\n",
            "Requirement already satisfied: pygments>=2.8.0 in /usr/local/lib/python3.10/dist-packages (from orange3) (2.18.0)\n",
            "Requirement already satisfied: pyqtgraph>=0.13.1 in /usr/local/lib/python3.10/dist-packages (from orange3) (0.13.7)\n",
            "Requirement already satisfied: python-louvain>=0.13 in /usr/local/lib/python3.10/dist-packages (from orange3) (0.16)\n",
            "Requirement already satisfied: pyyaml in /usr/local/lib/python3.10/dist-packages (from orange3) (6.0.2)\n",
            "Requirement already satisfied: qtconsole>=4.7.2 in /usr/local/lib/python3.10/dist-packages (from orange3) (5.6.0)\n",
            "Requirement already satisfied: requests in /usr/local/lib/python3.10/dist-packages (from orange3) (2.32.3)\n",
            "Requirement already satisfied: scikit-learn<1.5.0,>=1.3.0 in /usr/local/lib/python3.10/dist-packages (from orange3) (1.4.2)\n",
            "Requirement already satisfied: scipy>=1.9 in /usr/local/lib/python3.10/dist-packages (from orange3) (1.13.1)\n",
            "Requirement already satisfied: serverfiles in /usr/local/lib/python3.10/dist-packages (from orange3) (0.3.1)\n",
            "Requirement already satisfied: xgboost>=1.7.4 in /usr/local/lib/python3.10/dist-packages (from orange3) (2.1.1)\n",
            "Requirement already satisfied: xlrd>=1.2.0 in /usr/local/lib/python3.10/dist-packages (from orange3) (2.0.1)\n",
            "Requirement already satisfied: xlsxwriter in /usr/local/lib/python3.10/dist-packages (from orange3) (3.2.0)\n",
            "Requirement already satisfied: graphviz in /usr/local/lib/python3.10/dist-packages (from catboost>=1.0.1->orange3) (0.20.3)\n",
            "Requirement already satisfied: plotly in /usr/local/lib/python3.10/dist-packages (from catboost>=1.0.1->orange3) (5.24.1)\n",
            "Requirement already satisfied: six in /usr/local/lib/python3.10/dist-packages (from catboost>=1.0.1->orange3) (1.16.0)\n",
            "Requirement already satisfied: anyio in /usr/local/lib/python3.10/dist-packages (from httpx>=0.21.0->orange3) (3.7.1)\n",
            "Requirement already satisfied: certifi in /usr/local/lib/python3.10/dist-packages (from httpx>=0.21.0->orange3) (2024.8.30)\n",
            "Requirement already satisfied: httpcore==1.* in /usr/local/lib/python3.10/dist-packages (from httpx>=0.21.0->orange3) (1.0.6)\n",
            "Requirement already satisfied: idna in /usr/local/lib/python3.10/dist-packages (from httpx>=0.21.0->orange3) (3.10)\n",
            "Requirement already satisfied: sniffio in /usr/local/lib/python3.10/dist-packages (from httpx>=0.21.0->orange3) (1.3.1)\n",
            "Requirement already satisfied: h11<0.15,>=0.13 in /usr/local/lib/python3.10/dist-packages (from httpcore==1.*->httpx>=0.21.0->orange3) (0.14.0)\n",
            "Requirement already satisfied: contourpy>=1.0.1 in /usr/local/lib/python3.10/dist-packages (from matplotlib>=3.2.0->orange3) (1.3.0)\n",
            "Requirement already satisfied: cycler>=0.10 in /usr/local/lib/python3.10/dist-packages (from matplotlib>=3.2.0->orange3) (0.12.1)\n",
            "Requirement already satisfied: fonttools>=4.22.0 in /usr/local/lib/python3.10/dist-packages (from matplotlib>=3.2.0->orange3) (4.54.1)\n",
            "Requirement already satisfied: kiwisolver>=1.0.1 in /usr/local/lib/python3.10/dist-packages (from matplotlib>=3.2.0->orange3) (1.4.7)\n",
            "Requirement already satisfied: pillow>=6.2.0 in /usr/local/lib/python3.10/dist-packages (from matplotlib>=3.2.0->orange3) (10.4.0)\n",
            "Requirement already satisfied: pyparsing>=2.3.1 in /usr/local/lib/python3.10/dist-packages (from matplotlib>=3.2.0->orange3) (3.2.0)\n",
            "Requirement already satisfied: python-dateutil>=2.7 in /usr/local/lib/python3.10/dist-packages (from matplotlib>=3.2.0->orange3) (2.8.2)\n",
            "Requirement already satisfied: docutils in /usr/local/lib/python3.10/dist-packages (from orange-canvas-core<0.3a,>=0.2a->orange3) (0.18.1)\n",
            "Requirement already satisfied: commonmark>=0.8.1 in /usr/local/lib/python3.10/dist-packages (from orange-canvas-core<0.3a,>=0.2a->orange3) (0.9.1)\n",
            "Requirement already satisfied: requests-cache in /usr/local/lib/python3.10/dist-packages (from orange-canvas-core<0.3a,>=0.2a->orange3) (1.2.1)\n",
            "Requirement already satisfied: dictdiffer in /usr/local/lib/python3.10/dist-packages (from orange-canvas-core<0.3a,>=0.2a->orange3) (0.9.0)\n",
            "Requirement already satisfied: qasync>=0.10.0 in /usr/local/lib/python3.10/dist-packages (from orange-canvas-core<0.3a,>=0.2a->orange3) (0.27.1)\n",
            "Requirement already satisfied: typing-extensions in /usr/local/lib/python3.10/dist-packages (from orange-canvas-core<0.3a,>=0.2a->orange3) (4.12.2)\n",
            "Requirement already satisfied: pytz>=2020.1 in /usr/local/lib/python3.10/dist-packages (from pandas!=1.5.0,!=2.0.0,>=1.4.0->orange3) (2024.2)\n",
            "Requirement already satisfied: tzdata>=2022.7 in /usr/local/lib/python3.10/dist-packages (from pandas!=1.5.0,!=2.0.0,>=1.4.0->orange3) (2024.2)\n",
            "Requirement already satisfied: traitlets!=5.2.1,!=5.2.2 in /usr/local/lib/python3.10/dist-packages (from qtconsole>=4.7.2->orange3) (5.7.1)\n",
            "Requirement already satisfied: jupyter-core in /usr/local/lib/python3.10/dist-packages (from qtconsole>=4.7.2->orange3) (5.7.2)\n",
            "Requirement already satisfied: jupyter-client>=4.1 in /usr/local/lib/python3.10/dist-packages (from qtconsole>=4.7.2->orange3) (6.1.12)\n",
            "Requirement already satisfied: ipykernel>=4.1 in /usr/local/lib/python3.10/dist-packages (from qtconsole>=4.7.2->orange3) (5.5.6)\n",
            "Requirement already satisfied: qtpy>=2.4.0 in /usr/local/lib/python3.10/dist-packages (from qtconsole>=4.7.2->orange3) (2.4.1)\n",
            "Requirement already satisfied: threadpoolctl>=2.0.0 in /usr/local/lib/python3.10/dist-packages (from scikit-learn<1.5.0,>=1.3.0->orange3) (3.5.0)\n",
            "Requirement already satisfied: nvidia-nccl-cu12 in /usr/local/lib/python3.10/dist-packages (from xgboost>=1.7.4->orange3) (2.23.4)\n",
            "Requirement already satisfied: jaraco.classes in /usr/local/lib/python3.10/dist-packages (from keyrings.alt->orange3) (3.4.0)\n",
            "Requirement already satisfied: jaraco.context in /usr/local/lib/python3.10/dist-packages (from keyrings.alt->orange3) (6.0.1)\n",
            "Requirement already satisfied: et-xmlfile in /usr/local/lib/python3.10/dist-packages (from openpyxl->orange3) (1.1.0)\n",
            "Requirement already satisfied: charset-normalizer<4,>=2 in /usr/local/lib/python3.10/dist-packages (from requests->orange3) (3.4.0)\n",
            "Requirement already satisfied: urllib3<3,>=1.21.1 in /usr/local/lib/python3.10/dist-packages (from requests->orange3) (2.2.3)\n",
            "Requirement already satisfied: ipython-genutils in /usr/local/lib/python3.10/dist-packages (from ipykernel>=4.1->qtconsole>=4.7.2->orange3) (0.2.0)\n",
            "Requirement already satisfied: ipython>=5.0.0 in /usr/local/lib/python3.10/dist-packages (from ipykernel>=4.1->qtconsole>=4.7.2->orange3) (7.34.0)\n",
            "Requirement already satisfied: tornado>=4.2 in /usr/local/lib/python3.10/dist-packages (from ipykernel>=4.1->qtconsole>=4.7.2->orange3) (6.3.3)\n",
            "Requirement already satisfied: pyzmq>=13 in /usr/local/lib/python3.10/dist-packages (from jupyter-client>=4.1->qtconsole>=4.7.2->orange3) (24.0.1)\n",
            "Requirement already satisfied: platformdirs>=2.5 in /usr/local/lib/python3.10/dist-packages (from jupyter-core->qtconsole>=4.7.2->orange3) (4.3.6)\n",
            "Requirement already satisfied: exceptiongroup in /usr/local/lib/python3.10/dist-packages (from anyio->httpx>=0.21.0->orange3) (1.2.2)\n",
            "Requirement already satisfied: more-itertools in /usr/local/lib/python3.10/dist-packages (from jaraco.classes->keyrings.alt->orange3) (10.5.0)\n",
            "Requirement already satisfied: backports.tarfile in /usr/local/lib/python3.10/dist-packages (from jaraco.context->keyrings.alt->orange3) (1.2.0)\n",
            "Requirement already satisfied: tenacity>=6.2.0 in /usr/local/lib/python3.10/dist-packages (from plotly->catboost>=1.0.1->orange3) (9.0.0)\n",
            "Requirement already satisfied: attrs>=21.2 in /usr/local/lib/python3.10/dist-packages (from requests-cache->orange-canvas-core<0.3a,>=0.2a->orange3) (24.2.0)\n",
            "Requirement already satisfied: cattrs>=22.2 in /usr/local/lib/python3.10/dist-packages (from requests-cache->orange-canvas-core<0.3a,>=0.2a->orange3) (24.1.2)\n",
            "Requirement already satisfied: url-normalize>=1.4 in /usr/local/lib/python3.10/dist-packages (from requests-cache->orange-canvas-core<0.3a,>=0.2a->orange3) (1.4.3)\n",
            "Requirement already satisfied: setuptools>=18.5 in /usr/local/lib/python3.10/dist-packages (from ipython>=5.0.0->ipykernel>=4.1->qtconsole>=4.7.2->orange3) (75.1.0)\n",
            "Requirement already satisfied: jedi>=0.16 in /usr/local/lib/python3.10/dist-packages (from ipython>=5.0.0->ipykernel>=4.1->qtconsole>=4.7.2->orange3) (0.19.1)\n",
            "Requirement already satisfied: decorator in /usr/local/lib/python3.10/dist-packages (from ipython>=5.0.0->ipykernel>=4.1->qtconsole>=4.7.2->orange3) (4.4.2)\n",
            "Requirement already satisfied: pickleshare in /usr/local/lib/python3.10/dist-packages (from ipython>=5.0.0->ipykernel>=4.1->qtconsole>=4.7.2->orange3) (0.7.5)\n",
            "Requirement already satisfied: prompt-toolkit!=3.0.0,!=3.0.1,<3.1.0,>=2.0.0 in /usr/local/lib/python3.10/dist-packages (from ipython>=5.0.0->ipykernel>=4.1->qtconsole>=4.7.2->orange3) (3.0.48)\n",
            "Requirement already satisfied: backcall in /usr/local/lib/python3.10/dist-packages (from ipython>=5.0.0->ipykernel>=4.1->qtconsole>=4.7.2->orange3) (0.2.0)\n",
            "Requirement already satisfied: matplotlib-inline in /usr/local/lib/python3.10/dist-packages (from ipython>=5.0.0->ipykernel>=4.1->qtconsole>=4.7.2->orange3) (0.1.7)\n",
            "Requirement already satisfied: pexpect>4.3 in /usr/local/lib/python3.10/dist-packages (from ipython>=5.0.0->ipykernel>=4.1->qtconsole>=4.7.2->orange3) (4.9.0)\n",
            "Requirement already satisfied: parso<0.9.0,>=0.8.3 in /usr/local/lib/python3.10/dist-packages (from jedi>=0.16->ipython>=5.0.0->ipykernel>=4.1->qtconsole>=4.7.2->orange3) (0.8.4)\n",
            "Requirement already satisfied: ptyprocess>=0.5 in /usr/local/lib/python3.10/dist-packages (from pexpect>4.3->ipython>=5.0.0->ipykernel>=4.1->qtconsole>=4.7.2->orange3) (0.7.0)\n",
            "Requirement already satisfied: wcwidth in /usr/local/lib/python3.10/dist-packages (from prompt-toolkit!=3.0.0,!=3.0.1,<3.1.0,>=2.0.0->ipython>=5.0.0->ipykernel>=4.1->qtconsole>=4.7.2->orange3) (0.2.13)\n"
          ]
        }
      ],
      "source": [
        "# Install Orange3 library\n",
        "!pip install orange3 orange3-associate"
      ]
    },
    {
      "cell_type": "code",
      "execution_count": 98,
      "metadata": {
        "id": "r8J-jkE_ORL4"
      },
      "outputs": [],
      "source": [
        "# Import necessary libraries\n",
        "import pandas as pd\n",
        "import matplotlib.pyplot as plt\n",
        "import time\n",
        "from orangecontrib.associate.fpgrowth import *  # Association rule mining in Orange\n",
        "\n",
        "# # Load your datasets into pandas dataframes\n",
        "# dataset1 = pd.read_csv('/content/drive/MyDrive/datasets/3-MarketBasketAnalysis.csv')\n",
        "# dataset2 = pd.read_csv('/content/drive/MyDrive/datasets/5-OnlineRetailTransactionData.csv')\n",
        "# dataset3 = pd.read_csv('/content/drive/MyDrive/datasets/6-E-commerceBusinessTransaction.csv')\n",
        "# dataset4 = pd.read_csv('/content/drive/MyDrive/datasets/7-TransactionData.csv')\n",
        "# dataset5 = pd.read_csv('/content/drive/MyDrive/datasets/8-GoogleMerchandiseStore.csv')\n",
        "\n",
        "# # Example: display the first few rows of dataset1\n",
        "# dataset1.head()\n"
      ]
    },
    {
      "cell_type": "markdown",
      "metadata": {
        "id": "-0I2hlH3TEuS"
      },
      "source": [
        "# Step 1 Define Brute-Force Algorithm Function"
      ]
    },
    {
      "cell_type": "code",
      "execution_count": 99,
      "metadata": {
        "id": "O_IfZjueTLLR"
      },
      "outputs": [],
      "source": [
        "import itertools\n",
        "import time\n",
        "\n",
        "def brute_force_association_rule_mining(data, min_support=0.1, min_confidence=0.7):\n",
        "    print(\"Processing dataset start...\")\n",
        "    start_time = time.time()\n",
        "\n",
        "    frequent_itemsets = []\n",
        "    rules = []\n",
        "    n_transactions = len(data)  # Number of transactions\n",
        "\n",
        "    # Function to calculate support for a given itemset\n",
        "    def support(itemset, data):\n",
        "        count = sum(1 for transaction in data if set(itemset).issubset(transaction))\n",
        "        return count / n_transactions\n",
        "\n",
        "    # Function to calculate confidence for a given rule\n",
        "    def confidence(rule, itemset_support, data):\n",
        "        antecedent, _ = rule\n",
        "        antecedent_support = support(antecedent, data)\n",
        "        return itemset_support / antecedent_support if antecedent_support != 0 else 0\n",
        "\n",
        "    # Get all unique items across transactions\n",
        "    unique_items = sorted(set(itertools.chain.from_iterable(data)))\n",
        "\n",
        "    # Generate all possible itemsets\n",
        "    for r in range(1, len(unique_items) + 1):\n",
        "        for itemset in itertools.combinations(unique_items, r):\n",
        "            itemset_support = support(itemset, data)\n",
        "            if itemset_support >= min_support:\n",
        "                frequent_itemsets.append((itemset, itemset_support))\n",
        "\n",
        "                # Generate all possible rules for each frequent itemset\n",
        "                for consequent_size in range(1, len(itemset)):\n",
        "                    for consequent in itertools.combinations(itemset, consequent_size):\n",
        "                        antecedent = tuple(set(itemset) - set(consequent))\n",
        "                        conf = confidence((antecedent, consequent), itemset_support, data)\n",
        "                        if conf >= min_confidence:\n",
        "                            rules.append((antecedent, consequent, conf))\n",
        "\n",
        "    # End timing\n",
        "    end_time = time.time()\n",
        "\n",
        "    # Store results for the dataset\n",
        "    dataset_result = {\n",
        "        \"frequent_itemsets\": frequent_itemsets,\n",
        "        \"rules\": rules,\n",
        "        \"execution_time\": end_time - start_time\n",
        "    }\n",
        "    print(f\"Completed: in {end_time - start_time:.4f} seconds\")\n",
        "\n",
        "    return dataset_result\n"
      ]
    },
    {
      "cell_type": "markdown",
      "metadata": {
        "id": "kZod40usOhhG"
      },
      "source": [
        "# Step 2: Processing Dataset"
      ]
    },
    {
      "cell_type": "markdown",
      "metadata": {
        "id": "lPJVmUA-qTum"
      },
      "source": [
        "## 2.1 Load Dataset from CSV"
      ]
    },
    {
      "cell_type": "markdown",
      "metadata": {
        "id": "ZS6gnzhud5tq"
      },
      "source": [
        "### Dataset-1"
      ]
    },
    {
      "cell_type": "code",
      "execution_count": 48,
      "metadata": {
        "colab": {
          "base_uri": "https://localhost:8080/"
        },
        "collapsed": true,
        "id": "V7BYIJerZhMG",
        "outputId": "befde797-626b-4143-d903-63acacbc5925"
      },
      "outputs": [
        {
          "output_type": "stream",
          "name": "stderr",
          "text": [
            "<ipython-input-48-fec5d1c34eb9>:1: DtypeWarning: Columns (0) have mixed types. Specify dtype option on import or set low_memory=False.\n",
            "  dataset = pd.read_csv('/content/drive/MyDrive/datasets/3-MarketBasketAnalysis.csv',\n"
          ]
        },
        {
          "output_type": "stream",
          "name": "stdout",
          "text": [
            "   BillNo                             Itemname  Quantity              Date  \\\n",
            "0  536365   WHITE HANGING HEART T-LIGHT HOLDER         6  01.12.2010 08:26   \n",
            "1  536365                  WHITE METAL LANTERN         6  01.12.2010 08:26   \n",
            "2  536365       CREAM CUPID HEARTS COAT HANGER         8  01.12.2010 08:26   \n",
            "3  536365  KNITTED UNION FLAG HOT WATER BOTTLE         6  01.12.2010 08:26   \n",
            "4  536365       RED WOOLLY HOTTIE WHITE HEART.         6  01.12.2010 08:26   \n",
            "\n",
            "  Price  CustomerID         Country  \n",
            "0  2,55     17850.0  United Kingdom  \n",
            "1  3,39     17850.0  United Kingdom  \n",
            "2  2,75     17850.0  United Kingdom  \n",
            "3  3,39     17850.0  United Kingdom  \n",
            "4  3,39     17850.0  United Kingdom  \n",
            "[['WHITE HANGING HEART T-LIGHT HOLDER', 'WHITE METAL LANTERN', 'CREAM CUPID HEARTS COAT HANGER', 'KNITTED UNION FLAG HOT WATER BOTTLE', 'RED WOOLLY HOTTIE WHITE HEART.', 'SET 7 BABUSHKA NESTING BOXES', 'GLASS STAR FROSTED T-LIGHT HOLDER'], ['HAND WARMER UNION JACK', 'HAND WARMER RED POLKA DOT'], ['ASSORTED COLOUR BIRD ORNAMENT', \"POPPY'S PLAYHOUSE BEDROOM\", \"POPPY'S PLAYHOUSE KITCHEN\", 'FELTCRAFT PRINCESS CHARLOTTE DOLL', 'IVORY KNITTED MUG COSY', 'BOX OF 6 ASSORTED COLOUR TEASPOONS', 'BOX OF VINTAGE JIGSAW BLOCKS', 'BOX OF VINTAGE ALPHABET BLOCKS', 'HOME BUILDING BLOCK WORD', 'LOVE BUILDING BLOCK WORD', 'RECIPE BOX WITH METAL HEART', 'DOORMAT NEW ENGLAND'], ['JAM MAKING SET WITH JARS', 'RED COAT RACK PARIS FASHION', 'YELLOW COAT RACK PARIS FASHION', 'BLUE COAT RACK PARIS FASHION'], ['BATH BUILDING BLOCK WORD']]\n"
          ]
        }
      ],
      "source": [
        "dataset = pd.read_csv('/content/drive/MyDrive/datasets/3-MarketBasketAnalysis.csv',\n",
        "                       delimiter=';',\n",
        "                       on_bad_lines='skip')  # Skips problematic lines\n",
        "# View the first few rows\n",
        "print(dataset.head())\n",
        "\n",
        "# Group items by BillNo (transaction)\n",
        "transactions = dataset.groupby('BillNo')['Itemname'].apply(list).tolist()\n",
        "\n",
        "# Check the grouped transactions\n",
        "print(transactions[:5])"
      ]
    },
    {
      "cell_type": "markdown",
      "metadata": {
        "id": "l0CAHOxrd-zv"
      },
      "source": [
        "### Dataset-2"
      ]
    },
    {
      "cell_type": "code",
      "execution_count": 69,
      "metadata": {
        "id": "5MAijtjed4iR",
        "colab": {
          "base_uri": "https://localhost:8080/"
        },
        "outputId": "a87a5b1f-da4d-4d54-ad22-72b05ea95927"
      },
      "outputs": [
        {
          "output_type": "stream",
          "name": "stdout",
          "text": [
            "   Member_number        Date   itemDescription\n",
            "0           1808  21-07-2015    tropical fruit\n",
            "1           2552  05-01-2015        whole milk\n",
            "2           2300  19-09-2015         pip fruit\n",
            "3           1187  12-12-2015  other vegetables\n",
            "4           3037  01-02-2015        whole milk\n",
            "[['soda', 'canned beer', 'sausage', 'sausage', 'whole milk', 'whole milk', 'pickled vegetables', 'misc. beverages', 'semi-finished bread', 'hygiene articles', 'yogurt', 'pastry', 'salty snack'], ['frankfurter', 'frankfurter', 'beef', 'sausage', 'whole milk', 'soda', 'curd', 'white bread', 'whole milk', 'soda', 'whipped/sour cream', 'rolls/buns'], ['tropical fruit', 'butter milk', 'butter', 'frozen vegetables', 'sugar', 'specialty chocolate', 'whole milk', 'other vegetables'], ['sausage', 'root vegetables', 'rolls/buns', 'detergent', 'frozen meals', 'rolls/buns', 'dental care', 'rolls/buns'], ['other vegetables', 'pip fruit', 'root vegetables', 'canned beer', 'rolls/buns', 'whole milk', 'other vegetables', 'hygiene articles', 'whole milk', 'whole milk', 'frozen fish', 'red/blush wine', 'chocolate', 'shopping bags', 'dish cleaner', 'packaged fruit/vegetables', 'tropical fruit', 'rolls/buns', 'cling film/bags', 'chocolate', 'pastry']]\n"
          ]
        }
      ],
      "source": [
        "dataset = pd.read_csv('/content/drive/MyDrive/datasets/4-GroceriesDataset.csv')\n",
        "# View the first few rows\n",
        "print(dataset.head())\n",
        "\n",
        "# Group items by Member_number (transaction)\n",
        "transactions = dataset.groupby('Member_number')['itemDescription'].apply(list).tolist()\n",
        "\n",
        "# Check the grouped transactions\n",
        "print(transactions[:5])"
      ]
    },
    {
      "cell_type": "markdown",
      "metadata": {
        "id": "OPjYw_mWeKth"
      },
      "source": [
        "### Dataset-3"
      ]
    },
    {
      "cell_type": "code",
      "execution_count": 79,
      "metadata": {
        "id": "fxz546VJeKNy",
        "colab": {
          "base_uri": "https://localhost:8080/"
        },
        "outputId": "1c27635d-3c71-46dc-ded7-d758d2fad548"
      },
      "outputs": [
        {
          "output_type": "stream",
          "name": "stdout",
          "text": [
            "  TransactionNo       Date ProductNo                          ProductName  \\\n",
            "0        581482  12/9/2019     22485        Set Of 2 Wooden Market Crates   \n",
            "1        581475  12/9/2019     22596  Christmas Star Wish List Chalkboard   \n",
            "2        581475  12/9/2019     23235             Storage Tin Vintage Leaf   \n",
            "3        581475  12/9/2019     23272    Tree T-Light Holder Willie Winkie   \n",
            "4        581475  12/9/2019     23239    Set Of 4 Knick Knack Tins Poppies   \n",
            "\n",
            "   Price  Quantity  CustomerNo         Country  \n",
            "0  21.47        12     17490.0  United Kingdom  \n",
            "1  10.65        36     13069.0  United Kingdom  \n",
            "2  11.53        12     13069.0  United Kingdom  \n",
            "3  10.65        12     13069.0  United Kingdom  \n",
            "4  11.94         6     13069.0  United Kingdom  \n",
            "[['Cream Hanging Heart T-Light Holder', 'White Moroccan Metal Lantern', 'Cream Cupid Hearts Coat Hanger', 'Knitted Union Flag Hot Water Bottle', 'Red Woolly Hottie White Heart', 'Set 7 Babushka Nesting Boxes', 'Glass Star Frosted T-Light Holder'], ['Hand Warmer Union Jack', 'Hand Warmer Red Retrospot'], ['Assorted Colour Bird Ornament', \"Poppy's Playhouse Bedroom\", \"Poppy's Playhouse Kitchen\", 'Feltcraft Princess Charlotte Doll', 'Ivory Knitted Mug Cosy', 'Box Of 6 Assorted Colour Teaspoons', 'Box Of Vintage Jigsaw Blocks', 'Home Building Block Word', 'Love Building Block Word', 'Recipe Box With Metal Heart', 'Doormat New England', 'Box Of Vintage Alphabet Blocks'], ['Jam Making Set With Jars', 'Red Coat Rack Paris Fashion', 'Yellow Coat Rack Paris Fashion', 'Blue Coat Rack Paris Fashion'], ['Bath Building Block Word']]\n"
          ]
        }
      ],
      "source": [
        "dataset = pd.read_csv('/content/drive/MyDrive/datasets/6-E-commerceBusinessTransaction.csv')\n",
        "# View the first few rows\n",
        "print(dataset.head())\n",
        "\n",
        "transactions = dataset.groupby('TransactionNo')['ProductName'].apply(list).tolist()\n",
        "\n",
        "# Check the grouped transactions\n",
        "print(transactions[:5])"
      ]
    },
    {
      "cell_type": "markdown",
      "metadata": {
        "id": "-Q4GEWg_fuoP"
      },
      "source": [
        "### Dataset-4"
      ]
    },
    {
      "cell_type": "code",
      "execution_count": 100,
      "metadata": {
        "id": "iq3JUQmdfuMV",
        "colab": {
          "base_uri": "https://localhost:8080/"
        },
        "outputId": "5e9853f6-869d-428c-eaef-9fb119cd9e82"
      },
      "outputs": [
        {
          "output_type": "stream",
          "name": "stdout",
          "text": [
            "   UserId  TransactionId               TransactionTime  ItemCode  \\\n",
            "0  278166        6355745  Sat Feb 02 12:50:00 IST 2019    465549   \n",
            "1  337701        6283376  Wed Dec 26 09:06:00 IST 2018    482370   \n",
            "2  267099        6385599  Fri Feb 15 09:45:00 IST 2019    490728   \n",
            "3  380478        6044973  Fri Jun 22 07:14:00 IST 2018    459186   \n",
            "4      -1        6143225  Mon Sep 10 11:58:00 IST 2018   1733592   \n",
            "\n",
            "                     ItemDescription  NumberOfItemsPurchased  CostPerItem  \\\n",
            "0   FAMILY ALBUM WHITE PICTURE FRAME                       6        11.73   \n",
            "1              LONDON BUS COFFEE MUG                       3         3.52   \n",
            "2  SET 12 COLOUR PENCILS DOLLY GIRL                       72         0.90   \n",
            "3        UNION JACK FLAG LUGGAGE TAG                       3         1.73   \n",
            "4                WASHROOM METAL SIGN                       3         3.40   \n",
            "\n",
            "          Country  \n",
            "0  United Kingdom  \n",
            "1  United Kingdom  \n",
            "2          France  \n",
            "3  United Kingdom  \n",
            "4  United Kingdom  \n",
            "[['SET 7 BABUSHKA NESTING BOXES', 'WHITE METAL LANTERN', 'RED WOOLLY HOTTIE WHITE HEART.', 'CREAM CUPID HEARTS COAT HANGER', 'SET 7 BABUSHKA NESTING BOXES', 'KNITTED UNION FLAG HOT WATER BOTTLE', 'KNITTED UNION FLAG HOT WATER BOTTLE', 'WHITE HANGING HEART T-LIGHT HOLDER', 'WHITE METAL LANTERN', 'CREAM CUPID HEARTS COAT HANGER', 'RED WOOLLY HOTTIE WHITE HEART.', 'GLASS STAR FROSTED T-LIGHT HOLDER', 'WHITE HANGING HEART T-LIGHT HOLDER', 'GLASS STAR FROSTED T-LIGHT HOLDER'], ['HAND WARMER RED POLKA DOT', 'HAND WARMER UNION JACK', 'HAND WARMER UNION JACK', 'HAND WARMER RED POLKA DOT'], ['DOORMAT NEW ENGLAND', 'HOME BUILDING BLOCK WORD', 'LOVE BUILDING BLOCK WORD', 'ASSORTED COLOUR BIRD ORNAMENT', 'FELTCRAFT PRINCESS CHARLOTTE DOLL', \"POPPY'S PLAYHOUSE BEDROOM \", 'LOVE BUILDING BLOCK WORD', 'ASSORTED COLOUR BIRD ORNAMENT', 'BOX OF 6 ASSORTED COLOUR TEASPOONS', 'RECIPE BOX WITH METAL HEART', 'IVORY KNITTED MUG COSY ', 'BOX OF VINTAGE JIGSAW BLOCKS ', 'BOX OF VINTAGE ALPHABET BLOCKS', \"POPPY'S PLAYHOUSE BEDROOM \", 'BOX OF VINTAGE ALPHABET BLOCKS', \"POPPY'S PLAYHOUSE KITCHEN\", 'FELTCRAFT PRINCESS CHARLOTTE DOLL', 'DOORMAT NEW ENGLAND', 'HOME BUILDING BLOCK WORD', 'IVORY KNITTED MUG COSY ', 'RECIPE BOX WITH METAL HEART', 'BOX OF 6 ASSORTED COLOUR TEASPOONS', \"POPPY'S PLAYHOUSE KITCHEN\", 'BOX OF VINTAGE JIGSAW BLOCKS '], ['BLUE COAT RACK PARIS FASHION', 'RED COAT RACK PARIS FASHION', 'YELLOW COAT RACK PARIS FASHION', 'JAM MAKING SET WITH JARS', 'YELLOW COAT RACK PARIS FASHION', 'RED COAT RACK PARIS FASHION', 'BLUE COAT RACK PARIS FASHION', 'JAM MAKING SET WITH JARS'], ['BATH BUILDING BLOCK WORD', 'BATH BUILDING BLOCK WORD']]\n"
          ]
        }
      ],
      "source": [
        "dataset4 = pd.read_csv('/content/drive/MyDrive/datasets/7-TransactionData.csv')\n",
        "# View the first few rows\n",
        "print(dataset4.head())\n",
        "\n",
        "transactions4 = dataset4.groupby('TransactionId')['ItemDescription'].apply(list).tolist()\n",
        "\n",
        "# Check the grouped transactions\n",
        "print(transactions4[:5])"
      ]
    },
    {
      "cell_type": "markdown",
      "source": [
        "### Dataset-5"
      ],
      "metadata": {
        "id": "MgUET-YX3NFP"
      }
    },
    {
      "cell_type": "code",
      "source": [
        "dataset4 = pd.read_csv('/content/drive/MyDrive/datasets/8-GoogleMerchandiseStore.csv')\n",
        "# View the first few rows\n",
        "print(dataset4.head())"
      ],
      "metadata": {
        "colab": {
          "base_uri": "https://localhost:8080/"
        },
        "id": "Q4GaxVYA3LAU",
        "outputId": "7151cbd8-f724-4c7f-e0c8-966b5c88078e"
      },
      "execution_count": 107,
      "outputs": [
        {
          "output_type": "stream",
          "name": "stdout",
          "text": [
            "   transaction_id  Google Zip Hoodie Black  \\\n",
            "0           48494                     True   \n",
            "1           48489                    False   \n",
            "2           48482                    False   \n",
            "3           48478                    False   \n",
            "4           48472                    False   \n",
            "\n",
            "   Google Women's Short Sleeve Hero Tee White  Google Trike Tee Black  \\\n",
            "0                                       False                   False   \n",
            "1                                        True                    True   \n",
            "2                                        True                   False   \n",
            "3                                       False                   False   \n",
            "4                                       False                   False   \n",
            "\n",
            "   Google Women's Short Sleeve Badge Tee Grey  Google Hub Mug White  \\\n",
            "0                                       False                 False   \n",
            "1                                       False                 False   \n",
            "2                                        True                 False   \n",
            "3                                       False                  True   \n",
            "4                                       False                 False   \n",
            "\n",
            "   Ballpoint LED Light Pen  Google Stylus Pen w/ LED Light  \\\n",
            "0                    False                           False   \n",
            "1                    False                           False   \n",
            "2                    False                           False   \n",
            "3                    False                           False   \n",
            "4                     True                            True   \n",
            "\n",
            "   Google Rolltop Backpack Blue  Google White Force 17 oz Bottle  ...  \\\n",
            "0                         False                            False  ...   \n",
            "1                         False                            False  ...   \n",
            "2                         False                            False  ...   \n",
            "3                         False                            False  ...   \n",
            "4                         False                            False  ...   \n",
            "\n",
            "   Android Women's Racer Back Tank Black  \\\n",
            "0                                  False   \n",
            "1                                  False   \n",
            "2                                  False   \n",
            "3                                  False   \n",
            "4                                  False   \n",
            "\n",
            "   Google Men's Heavyweight Long Sleeve Hero Tee Navy  \\\n",
            "0                                              False    \n",
            "1                                              False    \n",
            "2                                              False    \n",
            "3                                              False    \n",
            "4                                              False    \n",
            "\n",
            "   YouTube Men's Long Sleeve Pullover Badge Tee Heather  YouTube Trucker Hat  \\\n",
            "0                                              False                   False   \n",
            "1                                              False                   False   \n",
            "2                                              False                   False   \n",
            "3                                              False                   False   \n",
            "4                                              False                   False   \n",
            "\n",
            "   Android Women's Short Sleeve Tri-blend Badge Tee Light Blue  \\\n",
            "0                                              False             \n",
            "1                                              False             \n",
            "2                                              False             \n",
            "3                                              False             \n",
            "4                                              False             \n",
            "\n",
            "   YouTube Infant Short Sleeve Tee Red  Android Infant Short Sleeve Tee Aqua  \\\n",
            "0                                False                                 False   \n",
            "1                                False                                 False   \n",
            "2                                False                                 False   \n",
            "3                                False                                 False   \n",
            "4                                False                                 False   \n",
            "\n",
            "   Google 40 oz Insulated Monster Bottle  Google Women's Zip Hoodie Grey  \\\n",
            "0                                  False                           False   \n",
            "1                                  False                           False   \n",
            "2                                  False                           False   \n",
            "3                                  False                           False   \n",
            "4                                  False                           False   \n",
            "\n",
            "   Google Men's Microfiber 1/4 Zip Pullover Grey/Black  \n",
            "0                                              False    \n",
            "1                                              False    \n",
            "2                                              False    \n",
            "3                                              False    \n",
            "4                                              False    \n",
            "\n",
            "[5 rows x 383 columns]\n"
          ]
        }
      ]
    },
    {
      "cell_type": "markdown",
      "metadata": {
        "id": "JlEj6PbBNrCD"
      },
      "source": [
        "## 2.2 Filter NONE or NaN\n",
        "\n",
        "\n"
      ]
    },
    {
      "cell_type": "code",
      "execution_count": 108,
      "metadata": {
        "id": "1pZVfbnDfW1t"
      },
      "outputs": [],
      "source": [
        "cleaned_transactions = []\n",
        "for transaction in transactions:\n",
        "    # Convert items to strings and filter out any None or NaN values\n",
        "    cleaned_transaction = [str(item) for item in transaction if pd.notna(item) and item != '']\n",
        "    if cleaned_transaction:  # Ensure the transaction is not empty\n",
        "        cleaned_transactions.append(cleaned_transaction)"
      ]
    },
    {
      "cell_type": "markdown",
      "metadata": {
        "id": "UJ3eKlysPLgT"
      },
      "source": [
        "## 2.3 Convert into List\n",
        "\n",
        "Output example:\n",
        "\n",
        "\n",
        "```\n",
        "transactions = [\n",
        "    ['CREAM CUPID HEARTS COAT HANGER', 'KNITTED UNION FLAG HOT WATER BOTTLE'],\n",
        "    ['HAND WARMER RED POLKA DOT', 'HAND WARMER UNION JACK'],\n",
        "    ['ASSORTED COLOUR BIRD ORNAMENT', 'BOX OF 6 ASSORTED COLOUR TEASPOONS'],\n",
        "    ['BLUE COAT RACK PARIS FASHION', 'RED COAT RACK PARIS FASHION'],\n",
        "    ['BATH BUILDING BLOCK WORD']\n",
        "]\n",
        "```\n",
        "\n",
        "DEFINE THE COUNT OF ITEMS HERE ! ! !"
      ]
    },
    {
      "cell_type": "code",
      "execution_count": 102,
      "metadata": {
        "colab": {
          "base_uri": "https://localhost:8080/"
        },
        "collapsed": true,
        "id": "ipI06KNxfx8e",
        "outputId": "f2d9b12a-0ba3-4cb6-e229-ba50ce5a3383"
      },
      "outputs": [
        {
          "output_type": "stream",
          "name": "stdout",
          "text": [
            "   10 Colour Spaceboy Pen  12 Coloured Party Balloons  \\\n",
            "0                   False                       False   \n",
            "1                   False                       False   \n",
            "2                   False                       False   \n",
            "3                   False                       False   \n",
            "4                   False                       False   \n",
            "\n",
            "   12 Daisy Pegs In Wood Box  12 Egg House Painted Wood  \\\n",
            "0                      False                      False   \n",
            "1                      False                      False   \n",
            "2                      False                      False   \n",
            "3                      False                      False   \n",
            "4                      False                      False   \n",
            "\n",
            "   12 Hanging Eggs Hand Painted  12 Ivory Rose Peg Place Settings  \\\n",
            "0                         False                             False   \n",
            "1                         False                             False   \n",
            "2                         False                             False   \n",
            "3                         False                             False   \n",
            "4                         False                             False   \n",
            "\n",
            "   12 Message Cards With Envelopes  12 Pencil Small Tube Woodland  \\\n",
            "0                            False                          False   \n",
            "1                            False                          False   \n",
            "2                            False                          False   \n",
            "3                            False                          False   \n",
            "4                            False                          False   \n",
            "\n",
            "   12 Pencils Small Tube Red Retrospot  12 Pencils Small Tube Skull  ...  \\\n",
            "0                                False                        False  ...   \n",
            "1                                False                        False  ...   \n",
            "2                                False                        False  ...   \n",
            "3                                False                        False  ...   \n",
            "4                                False                        False  ...   \n",
            "\n",
            "   Zinc Metal Heart Decoration  Zinc Star T-Light Holder  \\\n",
            "0                        False                     False   \n",
            "1                        False                     False   \n",
            "2                        False                     False   \n",
            "3                        False                     False   \n",
            "4                        False                     False   \n",
            "\n",
            "   Zinc Sweetheart Soap Dish  Zinc Sweetheart Wire Letter Rack  \\\n",
            "0                      False                             False   \n",
            "1                      False                             False   \n",
            "2                      False                             False   \n",
            "3                      False                             False   \n",
            "4                      False                             False   \n",
            "\n",
            "   Zinc T-Light Holder Star Large  Zinc T-Light Holder Stars Small  \\\n",
            "0                           False                            False   \n",
            "1                           False                            False   \n",
            "2                           False                            False   \n",
            "3                           False                            False   \n",
            "4                           False                            False   \n",
            "\n",
            "   Zinc Top 2 Door Wooden Shelf  Zinc Willie Winkie Candle Stick  \\\n",
            "0                         False                            False   \n",
            "1                         False                            False   \n",
            "2                         False                            False   \n",
            "3                         False                            False   \n",
            "4                         False                            False   \n",
            "\n",
            "   Zinc Wire Kitchen Organiser  Zinc Wire Sweetheart Letter Tray  \n",
            "0                        False                             False  \n",
            "1                        False                             False  \n",
            "2                        False                             False  \n",
            "3                        False                             False  \n",
            "4                        False                             False  \n",
            "\n",
            "[5 rows x 3768 columns]\n",
            "[[], [], [], [], [], [], [], [], [], [], [], [], [], [], []]\n"
          ]
        }
      ],
      "source": [
        "from mlxtend.preprocessing import TransactionEncoder\n",
        "\n",
        "# Convert transactions to binary matrix\n",
        "te = TransactionEncoder()\n",
        "te_ary = te.fit(cleaned_transactions).transform(cleaned_transactions)\n",
        "binary_matrix = pd.DataFrame(te_ary, columns=te.columns_)\n",
        "\n",
        "# Check the resulting binary matrix\n",
        "print(binary_matrix.head())\n",
        "\n",
        "# Reduce the number of unique items (columns)\n",
        "binary_matrix_reduced = binary_matrix.iloc[:, :15]  # Keep only the first 50 items\n",
        "# Remove rows where all items are \"FALSE\"\n",
        "# The default is True for pandas when using `astype(bool)`\n",
        "# Convert the DataFrame to boolean, then check if all values are True\n",
        "binary_matrix = binary_matrix[~(binary_matrix == \"FALSE\").all(axis=1)]\n",
        "\n",
        "mining_dataset = []\n",
        "for idx, row in binary_matrix_reduced.iterrows():\n",
        "    transaction = list(binary_matrix_reduced.columns[row == True])  # Add items where the value is True\n",
        "    mining_dataset.append(transaction)\n",
        "\n",
        "print(mining_dataset[:15])\n",
        "\n",
        "# Save the reduced dataset\n",
        "# binary_matrix1.to_csv('/content/drive/MyDrive/datasets/3-MarketBasketAnalysis_reduced.csv', index=True)"
      ]
    },
    {
      "cell_type": "markdown",
      "metadata": {
        "id": "qUb7rWOtRcHC"
      },
      "source": [
        "## 2.4 Mapping itemName(str) to Integer\n",
        "\n",
        "\n",
        "```\n",
        "item_mapping[itemName] = item_counter\n",
        "```\n",
        "\n"
      ]
    },
    {
      "cell_type": "code",
      "execution_count": 109,
      "metadata": {
        "colab": {
          "base_uri": "https://localhost:8080/"
        },
        "id": "Vq1DXQ3RJ9J1",
        "outputId": "eaacb6cf-0c66-423e-f6f7-664c151e515c"
      },
      "outputs": [
        {
          "output_type": "stream",
          "name": "stdout",
          "text": [
            "Item count: 15\n"
          ]
        }
      ],
      "source": [
        "# Step 2: Create a mapping of item names to integers\n",
        "item_mapping = {}\n",
        "item_counter = 0\n",
        "for transaction in mining_dataset:\n",
        "    for item in transaction:\n",
        "        if item not in item_mapping:\n",
        "            item_mapping[item] = item_counter\n",
        "            item_counter += 1\n",
        "\n",
        "# Step 3: Convert transactions to lists of integers\n",
        "encoded_transactions = [[item_mapping[item] for item in transaction] for transaction in mining_dataset]\n",
        "print(f\"Item count: {item_counter}\")"
      ]
    },
    {
      "cell_type": "markdown",
      "metadata": {
        "id": "HTm4HM6w4vTF"
      },
      "source": [
        "# Step 3: Running AR Mining Programs"
      ]
    },
    {
      "cell_type": "code",
      "source": [
        "min_support = 0.1\n",
        "min_confidence = 0.5"
      ],
      "metadata": {
        "id": "wfecCcLNYlsP"
      },
      "execution_count": 113,
      "outputs": []
    },
    {
      "cell_type": "code",
      "execution_count": 114,
      "metadata": {
        "colab": {
          "base_uri": "https://localhost:8080/"
        },
        "id": "v5-RNOTJ4tcN",
        "outputId": "d22fab1b-548e-483d-c727-bdc0075c8a23"
      },
      "outputs": [
        {
          "output_type": "stream",
          "name": "stdout",
          "text": [
            "Time taken: 0.2870039939880371 seconds\n",
            "Frequent Itemsets:\n",
            "Number of rules generated: 0\n",
            "\n",
            "Association Rules:\n"
          ]
        }
      ],
      "source": [
        "import time\n",
        "\n",
        "start_time = time.time()\n",
        "# Step 1: Mining frequent itemsets\n",
        "itemsets1_list = list(frequent_itemsets(encoded_transactions, min_support=min_support))\n",
        "\n",
        "# Convert itemsets1_list to a dictionary format required by association_rules\n",
        "itemsets = {itemset: support for itemset, support in itemsets1_list}\n",
        "\n",
        "# Step 2: Generating association rules from the frequent itemsets\n",
        "rules = list(association_rules(itemsets, min_confidence=min_confidence))\n",
        "\n",
        "elapsed_time = time.time() - start_time\n",
        "print(f\"Time taken: {elapsed_time} seconds\")\n",
        "\n",
        "# Print the frequent itemsets\n",
        "print(\"Frequent Itemsets:\")\n",
        "# Step 5: Print the itemsets and their support\n",
        "for itemset, support in itemsets.items():  # Iterate over items (key-value pairs)\n",
        "    decoded_itemset = [list(item_mapping.keys())[list(item_mapping.values()).index(i)] for i in itemset]\n",
        "    print(f\"Itemset: {decoded_itemset}, Support: {support}\")\n",
        "\n",
        "# Print the generated rules\n",
        "print(f\"Number of rules generated: {len(rules)}\")\n",
        "# Reverse the item_mapping to get item numbers back to names\n",
        "reverse_item_mapping = {v: k for k, v in item_mapping.items()}\n",
        "\n",
        "print(\"\\nAssociation Rules:\")\n",
        "for rule in rules:\n",
        "    # Unpacking the tuple (adjust this based on the structure of your rules)\n",
        "    antecedents, consequents, confidence, support = rule[:]\n",
        "\n",
        "    # Translate the antecedents and consequents using reverse_item_mapping\n",
        "    decoded_antecedents = [reverse_item_mapping[item] for item in antecedents]\n",
        "    decoded_consequents = [reverse_item_mapping[item] for item in consequents]\n",
        "\n",
        "    # Print the rule with item names\n",
        "    print(f\"Rule: {decoded_antecedents} -> {decoded_consequents}, Confidence: {confidence}, Support: {support}\")"
      ]
    },
    {
      "cell_type": "markdown",
      "metadata": {
        "id": "CBqs6AfianOQ"
      },
      "source": [
        "# Step 4: Running Brute-Force Mining"
      ]
    },
    {
      "cell_type": "code",
      "execution_count": 115,
      "metadata": {
        "colab": {
          "base_uri": "https://localhost:8080/"
        },
        "id": "oK7cxt3xVVqy",
        "outputId": "7e3c4c21-03ba-4ce7-d7d7-5b9403584384"
      },
      "outputs": [
        {
          "output_type": "stream",
          "name": "stdout",
          "text": [
            "Processing dataset start...\n",
            "Completed: in 320.3835 seconds\n"
          ]
        }
      ],
      "source": [
        "brute_force_result = brute_force_association_rule_mining(encoded_transactions, min_support=min_support, min_confidence=min_confidence)\n",
        "\n",
        "# Iterating over the frequent itemsets\n",
        "for itemset, support in brute_force_result[\"frequent_itemsets\"]:  # Access the dictionary key with a string\n",
        "    # Decode the itemset\n",
        "    decoded_itemset = [list(item_mapping.keys())[list(item_mapping.values()).index(i)] for i in itemset]\n",
        "    print(f\"Itemset: {decoded_itemset}, Support: {support}\")\n",
        "\n",
        "# Iterating over the rules\n",
        "for rule in brute_force_result[\"rules\"]:\n",
        "    antecedent, consequent, confidence = rule  # Unpacking the tuple\n",
        "    decoded_antecedent = [list(item_mapping.keys())[list(item_mapping.values()).index(i)] for i in antecedent]\n",
        "    decoded_consequent = [list(item_mapping.keys())[list(item_mapping.values()).index(i)] for i in consequent]\n",
        "    print(f\"Rule: {decoded_antecedent} -> {decoded_consequent}, Confidence: {confidence}\")"
      ]
    }
  ],
  "metadata": {
    "colab": {
      "toc_visible": true,
      "provenance": []
    },
    "kernelspec": {
      "display_name": "Python 3",
      "name": "python3"
    },
    "language_info": {
      "name": "python"
    }
  },
  "nbformat": 4,
  "nbformat_minor": 0
}